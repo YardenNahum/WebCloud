{
  "nbformat": 4,
  "nbformat_minor": 0,
  "metadata": {
    "colab": {
      "provenance": [],
      "authorship_tag": "ABX9TyMWmbEwx47B1LXxf7ANMpRP",
      "include_colab_link": true
    },
    "kernelspec": {
      "name": "python3",
      "display_name": "Python 3"
    },
    "language_info": {
      "name": "python"
    },
    "widgets": {
      "application/vnd.jupyter.widget-state+json": {
        "9367c325d7af41dc932393c6f6b68a13": {
          "model_module": "@jupyter-widgets/controls",
          "model_name": "TabModel",
          "model_module_version": "1.5.0",
          "state": {
            "_dom_classes": [],
            "_model_module": "@jupyter-widgets/controls",
            "_model_module_version": "1.5.0",
            "_model_name": "TabModel",
            "_titles": {
              "0": "Tab 1: Data Overview",
              "1": "Tab 2: Raw Data",
              "2": "Tab 3: Charts"
            },
            "_view_count": null,
            "_view_module": "@jupyter-widgets/controls",
            "_view_module_version": "1.5.0",
            "_view_name": "TabView",
            "box_style": "",
            "children": [
              "IPY_MODEL_9896ae55528c4459b728788e4d79fb8b",
              "IPY_MODEL_f810c82695ea43bbbacef2b63d8dbbbf",
              "IPY_MODEL_1969b18e6f3d4638b9d903c8b9bbbf36"
            ],
            "layout": "IPY_MODEL_6805bcb1392f4a3a9a3eb31ac3bb5efc",
            "selected_index": 0
          }
        },
        "9896ae55528c4459b728788e4d79fb8b": {
          "model_module": "@jupyter-widgets/output",
          "model_name": "OutputModel",
          "model_module_version": "1.0.0",
          "state": {
            "_dom_classes": [],
            "_model_module": "@jupyter-widgets/output",
            "_model_module_version": "1.0.0",
            "_model_name": "OutputModel",
            "_view_count": null,
            "_view_module": "@jupyter-widgets/output",
            "_view_module_version": "1.0.0",
            "_view_name": "OutputView",
            "layout": "IPY_MODEL_0c7880e807b646fdbbc5a81fcf932df2",
            "msg_id": "",
            "outputs": [
              {
                "output_type": "stream",
                "name": "stdout",
                "text": [
                  "Data Overview:\n"
                ]
              },
              {
                "output_type": "display_data",
                "data": {
                  "text/plain": "                _id  mispar_rechev    tozeret_cd      degem_cd  \\\ncount  32000.000000   3.200000e+04  32000.000000  32000.000000   \nmean   16000.500000   1.314576e+07    596.867031    475.701875   \nstd     9237.748643   1.856323e+07    259.427908    597.210795   \nmin        1.000000   1.000263e+06     19.000000      1.000000   \n25%     8000.750000   4.183946e+06    413.000000     75.000000   \n50%    16000.500000   6.806477e+06    588.000000    292.000000   \n75%    24000.250000   9.111006e+06    731.000000    651.000000   \nmax    32000.000000   9.255030e+07   1629.000000   8710.000000   \n\n       ramat_eivzur_betihuty  kvutzat_zihum  shnat_yitzur      tzeva_cd  \\\ncount            6090.000000   22692.000000  32000.000000  32000.000000   \nmean                3.929228      13.462322   2011.471937     43.422625   \nstd                 2.210714       3.562736      6.755698     27.556634   \nmin                 1.000000       1.000000   1996.000000      0.000000   \n25%                 2.000000      15.000000   2008.000000     25.000000   \n50%                 4.000000      15.000000   2009.000000     29.000000   \n75%                 6.000000      15.000000   2012.000000     80.000000   \nmax                 8.000000      15.000000   2025.000000     99.000000   \n\n       horaat_rishum  \ncount    7775.000000  \nmean   211421.831768  \nstd     39850.910749  \nmin     11095.000000  \n25%    200330.000000  \n50%    220223.000000  \n75%    240215.500000  \nmax    999998.000000  ",
                  "text/html": "\n  <div id=\"df-7839391d-ac8c-439d-9763-3f4ac20844c4\" class=\"colab-df-container\">\n    <div>\n<style scoped>\n    .dataframe tbody tr th:only-of-type {\n        vertical-align: middle;\n    }\n\n    .dataframe tbody tr th {\n        vertical-align: top;\n    }\n\n    .dataframe thead th {\n        text-align: right;\n    }\n</style>\n<table border=\"1\" class=\"dataframe\">\n  <thead>\n    <tr style=\"text-align: right;\">\n      <th></th>\n      <th>_id</th>\n      <th>mispar_rechev</th>\n      <th>tozeret_cd</th>\n      <th>degem_cd</th>\n      <th>ramat_eivzur_betihuty</th>\n      <th>kvutzat_zihum</th>\n      <th>shnat_yitzur</th>\n      <th>tzeva_cd</th>\n      <th>horaat_rishum</th>\n    </tr>\n  </thead>\n  <tbody>\n    <tr>\n      <th>count</th>\n      <td>32000.000000</td>\n      <td>3.200000e+04</td>\n      <td>32000.000000</td>\n      <td>32000.000000</td>\n      <td>6090.000000</td>\n      <td>22692.000000</td>\n      <td>32000.000000</td>\n      <td>32000.000000</td>\n      <td>7775.000000</td>\n    </tr>\n    <tr>\n      <th>mean</th>\n      <td>16000.500000</td>\n      <td>1.314576e+07</td>\n      <td>596.867031</td>\n      <td>475.701875</td>\n      <td>3.929228</td>\n      <td>13.462322</td>\n      <td>2011.471937</td>\n      <td>43.422625</td>\n      <td>211421.831768</td>\n    </tr>\n    <tr>\n      <th>std</th>\n      <td>9237.748643</td>\n      <td>1.856323e+07</td>\n      <td>259.427908</td>\n      <td>597.210795</td>\n      <td>2.210714</td>\n      <td>3.562736</td>\n      <td>6.755698</td>\n      <td>27.556634</td>\n      <td>39850.910749</td>\n    </tr>\n    <tr>\n      <th>min</th>\n      <td>1.000000</td>\n      <td>1.000263e+06</td>\n      <td>19.000000</td>\n      <td>1.000000</td>\n      <td>1.000000</td>\n      <td>1.000000</td>\n      <td>1996.000000</td>\n      <td>0.000000</td>\n      <td>11095.000000</td>\n    </tr>\n    <tr>\n      <th>25%</th>\n      <td>8000.750000</td>\n      <td>4.183946e+06</td>\n      <td>413.000000</td>\n      <td>75.000000</td>\n      <td>2.000000</td>\n      <td>15.000000</td>\n      <td>2008.000000</td>\n      <td>25.000000</td>\n      <td>200330.000000</td>\n    </tr>\n    <tr>\n      <th>50%</th>\n      <td>16000.500000</td>\n      <td>6.806477e+06</td>\n      <td>588.000000</td>\n      <td>292.000000</td>\n      <td>4.000000</td>\n      <td>15.000000</td>\n      <td>2009.000000</td>\n      <td>29.000000</td>\n      <td>220223.000000</td>\n    </tr>\n    <tr>\n      <th>75%</th>\n      <td>24000.250000</td>\n      <td>9.111006e+06</td>\n      <td>731.000000</td>\n      <td>651.000000</td>\n      <td>6.000000</td>\n      <td>15.000000</td>\n      <td>2012.000000</td>\n      <td>80.000000</td>\n      <td>240215.500000</td>\n    </tr>\n    <tr>\n      <th>max</th>\n      <td>32000.000000</td>\n      <td>9.255030e+07</td>\n      <td>1629.000000</td>\n      <td>8710.000000</td>\n      <td>8.000000</td>\n      <td>15.000000</td>\n      <td>2025.000000</td>\n      <td>99.000000</td>\n      <td>999998.000000</td>\n    </tr>\n  </tbody>\n</table>\n</div>\n    <div class=\"colab-df-buttons\">\n\n  <div class=\"colab-df-container\">\n    <button class=\"colab-df-convert\" onclick=\"convertToInteractive('df-7839391d-ac8c-439d-9763-3f4ac20844c4')\"\n            title=\"Convert this dataframe to an interactive table.\"\n            style=\"display:none;\">\n\n  <svg xmlns=\"http://www.w3.org/2000/svg\" height=\"24px\" viewBox=\"0 -960 960 960\">\n    <path d=\"M120-120v-720h720v720H120Zm60-500h600v-160H180v160Zm220 220h160v-160H400v160Zm0 220h160v-160H400v160ZM180-400h160v-160H180v160Zm440 0h160v-160H620v160ZM180-180h160v-160H180v160Zm440 0h160v-160H620v160Z\"/>\n  </svg>\n    </button>\n\n  <style>\n    .colab-df-container {\n      display:flex;\n      gap: 12px;\n    }\n\n    .colab-df-convert {\n      background-color: #E8F0FE;\n      border: none;\n      border-radius: 50%;\n      cursor: pointer;\n      display: none;\n      fill: #1967D2;\n      height: 32px;\n      padding: 0 0 0 0;\n      width: 32px;\n    }\n\n    .colab-df-convert:hover {\n      background-color: #E2EBFA;\n      box-shadow: 0px 1px 2px rgba(60, 64, 67, 0.3), 0px 1px 3px 1px rgba(60, 64, 67, 0.15);\n      fill: #174EA6;\n    }\n\n    .colab-df-buttons div {\n      margin-bottom: 4px;\n    }\n\n    [theme=dark] .colab-df-convert {\n      background-color: #3B4455;\n      fill: #D2E3FC;\n    }\n\n    [theme=dark] .colab-df-convert:hover {\n      background-color: #434B5C;\n      box-shadow: 0px 1px 3px 1px rgba(0, 0, 0, 0.15);\n      filter: drop-shadow(0px 1px 2px rgba(0, 0, 0, 0.3));\n      fill: #FFFFFF;\n    }\n  </style>\n\n    <script>\n      const buttonEl =\n        document.querySelector('#df-7839391d-ac8c-439d-9763-3f4ac20844c4 button.colab-df-convert');\n      buttonEl.style.display =\n        google.colab.kernel.accessAllowed ? 'block' : 'none';\n\n      async function convertToInteractive(key) {\n        const element = document.querySelector('#df-7839391d-ac8c-439d-9763-3f4ac20844c4');\n        const dataTable =\n          await google.colab.kernel.invokeFunction('convertToInteractive',\n                                                    [key], {});\n        if (!dataTable) return;\n\n        const docLinkHtml = 'Like what you see? Visit the ' +\n          '<a target=\"_blank\" href=https://colab.research.google.com/notebooks/data_table.ipynb>data table notebook</a>'\n          + ' to learn more about interactive tables.';\n        element.innerHTML = '';\n        dataTable['output_type'] = 'display_data';\n        await google.colab.output.renderOutput(dataTable, element);\n        const docLink = document.createElement('div');\n        docLink.innerHTML = docLinkHtml;\n        element.appendChild(docLink);\n      }\n    </script>\n  </div>\n\n\n<div id=\"df-68a2f513-76a8-4005-9cf1-2c0186037a1b\">\n  <button class=\"colab-df-quickchart\" onclick=\"quickchart('df-68a2f513-76a8-4005-9cf1-2c0186037a1b')\"\n            title=\"Suggest charts\"\n            style=\"display:none;\">\n\n<svg xmlns=\"http://www.w3.org/2000/svg\" height=\"24px\"viewBox=\"0 0 24 24\"\n     width=\"24px\">\n    <g>\n        <path d=\"M19 3H5c-1.1 0-2 .9-2 2v14c0 1.1.9 2 2 2h14c1.1 0 2-.9 2-2V5c0-1.1-.9-2-2-2zM9 17H7v-7h2v7zm4 0h-2V7h2v10zm4 0h-2v-4h2v4z\"/>\n    </g>\n</svg>\n  </button>\n\n<style>\n  .colab-df-quickchart {\n      --bg-color: #E8F0FE;\n      --fill-color: #1967D2;\n      --hover-bg-color: #E2EBFA;\n      --hover-fill-color: #174EA6;\n      --disabled-fill-color: #AAA;\n      --disabled-bg-color: #DDD;\n  }\n\n  [theme=dark] .colab-df-quickchart {\n      --bg-color: #3B4455;\n      --fill-color: #D2E3FC;\n      --hover-bg-color: #434B5C;\n      --hover-fill-color: #FFFFFF;\n      --disabled-bg-color: #3B4455;\n      --disabled-fill-color: #666;\n  }\n\n  .colab-df-quickchart {\n    background-color: var(--bg-color);\n    border: none;\n    border-radius: 50%;\n    cursor: pointer;\n    display: none;\n    fill: var(--fill-color);\n    height: 32px;\n    padding: 0;\n    width: 32px;\n  }\n\n  .colab-df-quickchart:hover {\n    background-color: var(--hover-bg-color);\n    box-shadow: 0 1px 2px rgba(60, 64, 67, 0.3), 0 1px 3px 1px rgba(60, 64, 67, 0.15);\n    fill: var(--button-hover-fill-color);\n  }\n\n  .colab-df-quickchart-complete:disabled,\n  .colab-df-quickchart-complete:disabled:hover {\n    background-color: var(--disabled-bg-color);\n    fill: var(--disabled-fill-color);\n    box-shadow: none;\n  }\n\n  .colab-df-spinner {\n    border: 2px solid var(--fill-color);\n    border-color: transparent;\n    border-bottom-color: var(--fill-color);\n    animation:\n      spin 1s steps(1) infinite;\n  }\n\n  @keyframes spin {\n    0% {\n      border-color: transparent;\n      border-bottom-color: var(--fill-color);\n      border-left-color: var(--fill-color);\n    }\n    20% {\n      border-color: transparent;\n      border-left-color: var(--fill-color);\n      border-top-color: var(--fill-color);\n    }\n    30% {\n      border-color: transparent;\n      border-left-color: var(--fill-color);\n      border-top-color: var(--fill-color);\n      border-right-color: var(--fill-color);\n    }\n    40% {\n      border-color: transparent;\n      border-right-color: var(--fill-color);\n      border-top-color: var(--fill-color);\n    }\n    60% {\n      border-color: transparent;\n      border-right-color: var(--fill-color);\n    }\n    80% {\n      border-color: transparent;\n      border-right-color: var(--fill-color);\n      border-bottom-color: var(--fill-color);\n    }\n    90% {\n      border-color: transparent;\n      border-bottom-color: var(--fill-color);\n    }\n  }\n</style>\n\n  <script>\n    async function quickchart(key) {\n      const quickchartButtonEl =\n        document.querySelector('#' + key + ' button');\n      quickchartButtonEl.disabled = true;  // To prevent multiple clicks.\n      quickchartButtonEl.classList.add('colab-df-spinner');\n      try {\n        const charts = await google.colab.kernel.invokeFunction(\n            'suggestCharts', [key], {});\n      } catch (error) {\n        console.error('Error during call to suggestCharts:', error);\n      }\n      quickchartButtonEl.classList.remove('colab-df-spinner');\n      quickchartButtonEl.classList.add('colab-df-quickchart-complete');\n    }\n    (() => {\n      let quickchartButtonEl =\n        document.querySelector('#df-68a2f513-76a8-4005-9cf1-2c0186037a1b button');\n      quickchartButtonEl.style.display =\n        google.colab.kernel.accessAllowed ? 'block' : 'none';\n    })();\n  </script>\n</div>\n\n    </div>\n  </div>\n",
                  "application/vnd.google.colaboratory.intrinsic+json": {
                    "type": "dataframe",
                    "summary": "{\n  \"name\": \"display(tabs)\",\n  \"rows\": 8,\n  \"fields\": [\n    {\n      \"column\": \"_id\",\n      \"properties\": {\n        \"dtype\": \"number\",\n        \"std\": 11532.650024401897,\n        \"min\": 1.0,\n        \"max\": 32000.0,\n        \"num_unique_values\": 6,\n        \"samples\": [\n          32000.0,\n          16000.5,\n          24000.25\n        ],\n        \"semantic_type\": \"\",\n        \"description\": \"\"\n      }\n    },\n    {\n      \"column\": \"mispar_rechev\",\n      \"properties\": {\n        \"dtype\": \"number\",\n        \"std\": 30679025.653498575,\n        \"min\": 32000.0,\n        \"max\": 92550301.0,\n        \"num_unique_values\": 8,\n        \"samples\": [\n          13145761.71009375,\n          6806477.0,\n          32000.0\n        ],\n        \"semantic_type\": \"\",\n        \"description\": \"\"\n      }\n    },\n    {\n      \"column\": \"tozeret_cd\",\n      \"properties\": {\n        \"dtype\": \"number\",\n        \"std\": 11109.806448249426,\n        \"min\": 19.0,\n        \"max\": 32000.0,\n        \"num_unique_values\": 8,\n        \"samples\": [\n          596.86703125,\n          588.0,\n          32000.0\n        ],\n        \"semantic_type\": \"\",\n        \"description\": \"\"\n      }\n    },\n    {\n      \"column\": \"degem_cd\",\n      \"properties\": {\n        \"dtype\": \"number\",\n        \"std\": 11160.909320227707,\n        \"min\": 1.0,\n        \"max\": 32000.0,\n        \"num_unique_values\": 8,\n        \"samples\": [\n          475.701875,\n          292.0,\n          32000.0\n        ],\n        \"semantic_type\": \"\",\n        \"description\": \"\"\n      }\n    },\n    {\n      \"column\": \"ramat_eivzur_betihuty\",\n      \"properties\": {\n        \"dtype\": \"number\",\n        \"std\": 2151.7705730182875,\n        \"min\": 1.0,\n        \"max\": 6090.0,\n        \"num_unique_values\": 8,\n        \"samples\": [\n          3.9292282430213463,\n          4.0,\n          6090.0\n        ],\n        \"semantic_type\": \"\",\n        \"description\": \"\"\n      }\n    },\n    {\n      \"column\": \"kvutzat_zihum\",\n      \"properties\": {\n        \"dtype\": \"number\",\n        \"std\": 8018.894685051581,\n        \"min\": 1.0,\n        \"max\": 22692.0,\n        \"num_unique_values\": 5,\n        \"samples\": [\n          13.462321523003702,\n          15.0,\n          3.5627355639836513\n        ],\n        \"semantic_type\": \"\",\n        \"description\": \"\"\n      }\n    },\n    {\n      \"column\": \"shnat_yitzur\",\n      \"properties\": {\n        \"dtype\": \"number\",\n        \"std\": 10727.107912277172,\n        \"min\": 6.7556976863199685,\n        \"max\": 32000.0,\n        \"num_unique_values\": 8,\n        \"samples\": [\n          2011.4719375,\n          2009.0,\n          32000.0\n        ],\n        \"semantic_type\": \"\",\n        \"description\": \"\"\n      }\n    },\n    {\n      \"column\": \"tzeva_cd\",\n      \"properties\": {\n        \"dtype\": \"number\",\n        \"std\": 11298.400186371759,\n        \"min\": 0.0,\n        \"max\": 32000.0,\n        \"num_unique_values\": 8,\n        \"samples\": [\n          43.422625,\n          29.0,\n          32000.0\n        ],\n        \"semantic_type\": \"\",\n        \"description\": \"\"\n      }\n    },\n    {\n      \"column\": \"horaat_rishum\",\n      \"properties\": {\n        \"dtype\": \"number\",\n        \"std\": 322213.16987896117,\n        \"min\": 7775.0,\n        \"max\": 999998.0,\n        \"num_unique_values\": 8,\n        \"samples\": [\n          211421.83176848874,\n          220223.0,\n          7775.0\n        ],\n        \"semantic_type\": \"\",\n        \"description\": \"\"\n      }\n    }\n  ]\n}"
                  }
                },
                "metadata": {}
              }
            ]
          }
        },
        "f810c82695ea43bbbacef2b63d8dbbbf": {
          "model_module": "@jupyter-widgets/output",
          "model_name": "OutputModel",
          "model_module_version": "1.0.0",
          "state": {
            "_dom_classes": [],
            "_model_module": "@jupyter-widgets/output",
            "_model_module_version": "1.0.0",
            "_model_name": "OutputModel",
            "_view_count": null,
            "_view_module": "@jupyter-widgets/output",
            "_view_module_version": "1.0.0",
            "_view_name": "OutputView",
            "layout": "IPY_MODEL_ce8601854a0c4bc58ce9f3ac8bdc348f",
            "msg_id": "",
            "outputs": [
              {
                "output_type": "stream",
                "name": "stdout",
                "text": [
                  "Raw Data:\n"
                ]
              },
              {
                "output_type": "display_data",
                "data": {
                  "text/plain": "         _id  mispar_rechev  tozeret_cd sug_degem     tozeret_nm  degem_cd  \\\n0          1        2759880         676         P    סקודה צ'כיה       548   \n1          2       66226201         676         P    סקודה צ'כיה       908   \n2          3        2489538         676         P    סקודה צ'כיה       516   \n3          4       50272902         885         P     קיה קוריאה       514   \n4          5       50685801         845         P  יונדאי טורקיה        56   \n...      ...            ...         ...       ...            ...       ...   \n31995  31996        4971475         730         P    פורד גרמניה         6   \n31996  31997        6443770         312         P      הונדה-יפן       871   \n31997  31998        1979764         588         P       מזדה יפן       282   \n31998  31999        6230316         143         P  ב מ וו גרמניה      1061   \n31999  32000        7161558         650         P     סובארו יפן       181   \n\n      degem_nm ramat_gimur  ramat_eivzur_betihuty  kvutzat_zihum  \\\n0       NH33RD    AMBITION                    NaN           14.0   \n1       5E33ND    AMBITION                    NaN           14.0   \n2       5E33FD    AMBITION                    NaN           14.0   \n3       CB81CG       URBAN                    2.0            4.0   \n4        A751C       PRIME                    NaN           14.0   \n...        ...         ...                    ...            ...   \n31995      DYB       TREND                    NaN           15.0   \n31996     ZE28    ELEGANCE                    NaN            7.0   \n31997    CR19F           S                    NaN            NaN   \n31998     NU91                                NaN           15.0   \n31999  GD9EL5R          GX                    NaN            NaN   \n\n       shnat_yitzur degem_manoa mivchan_acharon_dt    tokef_dt baalut  \\\n0              2017         CZC         2024-05-28  2025-02-18   פרטי   \n1              2019         DAD         2024-03-03  2025-02-18   פרטי   \n2              2016         CYV         2024-02-25  2025-02-24   פרטי   \n3              2021        G4LE         2025-04-12  2026-04-17   פרטי   \n4              2018        G4LA         2025-04-11  2026-04-14   פרטי   \n...             ...         ...                ...         ...    ...   \n31995          2012        PNDA         2025-03-14  2026-03-20   פרטי   \n31996          2010        LDA3         2024-08-11  2025-07-04   פרטי   \n31997          2008          LF         2024-12-08  2025-10-08   פרטי   \n31998          2010    N52B30AF         2024-01-11  2025-01-04   פרטי   \n31999          2006       EJ 20         2023-08-26  2024-06-21   פרטי   \n\n                  misgeret  tzeva_cd   tzeva_rechev  zmig_kidmi  zmig_ahori  \\\n0        TMBAT6NH8G4029567        29       כסף מטלי  185/60 R15  185/60 R15   \n1        TMBAR7NE7K0127449        29       כסף מטלי  R16 205/55  R16 205/55   \n2        TMBAB7NE2G0167997        29       כסף מטלי  205/55 R16  205/55 R16   \n3        KNACB81CGM5444575        50           אדום   205/60R16   205/60R16   \n4        NLHA751CBJZ429963        80       שנהב לבן   175/65R14   175/65R14   \n...                    ...       ...            ...         ...         ...   \n31995    WF0MXXGCBMBM09560        80       שנהב לבן   205/55R16   205/55R16   \n31996    JHMZE2870AS216412        11      שחור מטלי   185/55R16   185/55R16   \n31997   JMZCR19F5-80217656        26         פלטינה   205/55R16   205/55R16   \n31998  WBANU9107A  CT29434         6  אפור כהה מטלי   225/50R17   225/50R17   \n31999    JF1GD9LR56G451487        32      כחול בהיר  215/45/R17   215/45R17   \n\n      sug_delek_nm  horaat_rishum moed_aliya_lakvish   kinuy_mishari  \n0            בנזין       160117.0             2017-2           RAPID  \n1            בנזין       180301.0             2019-2         OCTAVIA  \n2            בנזין       160116.0             2016-2         OCTAVIA  \n3            בנזין       200153.0             2021-4            NIRO  \n4            בנזין       170001.0             2018-4             I10  \n...            ...            ...                ...             ...  \n31995        בנזין            NaN             2012-3           FOCUS  \n31996        בנזין            NaN             2010-7  INSIGHT HYBRID  \n31997        בנזין            NaN               None         MAZDA 5  \n31998        בנזין            NaN             2010-1            530I  \n31999        בנזין            NaN               None         IMPREZA  \n\n[32000 rows x 24 columns]",
                  "text/html": "\n  <div id=\"df-490185e0-a4ad-41ad-92eb-0b34d04a03a1\" class=\"colab-df-container\">\n    <div>\n<style scoped>\n    .dataframe tbody tr th:only-of-type {\n        vertical-align: middle;\n    }\n\n    .dataframe tbody tr th {\n        vertical-align: top;\n    }\n\n    .dataframe thead th {\n        text-align: right;\n    }\n</style>\n<table border=\"1\" class=\"dataframe\">\n  <thead>\n    <tr style=\"text-align: right;\">\n      <th></th>\n      <th>_id</th>\n      <th>mispar_rechev</th>\n      <th>tozeret_cd</th>\n      <th>sug_degem</th>\n      <th>tozeret_nm</th>\n      <th>degem_cd</th>\n      <th>degem_nm</th>\n      <th>ramat_gimur</th>\n      <th>ramat_eivzur_betihuty</th>\n      <th>kvutzat_zihum</th>\n      <th>shnat_yitzur</th>\n      <th>degem_manoa</th>\n      <th>mivchan_acharon_dt</th>\n      <th>tokef_dt</th>\n      <th>baalut</th>\n      <th>misgeret</th>\n      <th>tzeva_cd</th>\n      <th>tzeva_rechev</th>\n      <th>zmig_kidmi</th>\n      <th>zmig_ahori</th>\n      <th>sug_delek_nm</th>\n      <th>horaat_rishum</th>\n      <th>moed_aliya_lakvish</th>\n      <th>kinuy_mishari</th>\n    </tr>\n  </thead>\n  <tbody>\n    <tr>\n      <th>0</th>\n      <td>1</td>\n      <td>2759880</td>\n      <td>676</td>\n      <td>P</td>\n      <td>סקודה צ'כיה</td>\n      <td>548</td>\n      <td>NH33RD</td>\n      <td>AMBITION</td>\n      <td>NaN</td>\n      <td>14.0</td>\n      <td>2017</td>\n      <td>CZC</td>\n      <td>2024-05-28</td>\n      <td>2025-02-18</td>\n      <td>פרטי</td>\n      <td>TMBAT6NH8G4029567</td>\n      <td>29</td>\n      <td>כסף מטלי</td>\n      <td>185/60 R15</td>\n      <td>185/60 R15</td>\n      <td>בנזין</td>\n      <td>160117.0</td>\n      <td>2017-2</td>\n      <td>RAPID</td>\n    </tr>\n    <tr>\n      <th>1</th>\n      <td>2</td>\n      <td>66226201</td>\n      <td>676</td>\n      <td>P</td>\n      <td>סקודה צ'כיה</td>\n      <td>908</td>\n      <td>5E33ND</td>\n      <td>AMBITION</td>\n      <td>NaN</td>\n      <td>14.0</td>\n      <td>2019</td>\n      <td>DAD</td>\n      <td>2024-03-03</td>\n      <td>2025-02-18</td>\n      <td>פרטי</td>\n      <td>TMBAR7NE7K0127449</td>\n      <td>29</td>\n      <td>כסף מטלי</td>\n      <td>R16 205/55</td>\n      <td>R16 205/55</td>\n      <td>בנזין</td>\n      <td>180301.0</td>\n      <td>2019-2</td>\n      <td>OCTAVIA</td>\n    </tr>\n    <tr>\n      <th>2</th>\n      <td>3</td>\n      <td>2489538</td>\n      <td>676</td>\n      <td>P</td>\n      <td>סקודה צ'כיה</td>\n      <td>516</td>\n      <td>5E33FD</td>\n      <td>AMBITION</td>\n      <td>NaN</td>\n      <td>14.0</td>\n      <td>2016</td>\n      <td>CYV</td>\n      <td>2024-02-25</td>\n      <td>2025-02-24</td>\n      <td>פרטי</td>\n      <td>TMBAB7NE2G0167997</td>\n      <td>29</td>\n      <td>כסף מטלי</td>\n      <td>205/55 R16</td>\n      <td>205/55 R16</td>\n      <td>בנזין</td>\n      <td>160116.0</td>\n      <td>2016-2</td>\n      <td>OCTAVIA</td>\n    </tr>\n    <tr>\n      <th>3</th>\n      <td>4</td>\n      <td>50272902</td>\n      <td>885</td>\n      <td>P</td>\n      <td>קיה קוריאה</td>\n      <td>514</td>\n      <td>CB81CG</td>\n      <td>URBAN</td>\n      <td>2.0</td>\n      <td>4.0</td>\n      <td>2021</td>\n      <td>G4LE</td>\n      <td>2025-04-12</td>\n      <td>2026-04-17</td>\n      <td>פרטי</td>\n      <td>KNACB81CGM5444575</td>\n      <td>50</td>\n      <td>אדום</td>\n      <td>205/60R16</td>\n      <td>205/60R16</td>\n      <td>בנזין</td>\n      <td>200153.0</td>\n      <td>2021-4</td>\n      <td>NIRO</td>\n    </tr>\n    <tr>\n      <th>4</th>\n      <td>5</td>\n      <td>50685801</td>\n      <td>845</td>\n      <td>P</td>\n      <td>יונדאי טורקיה</td>\n      <td>56</td>\n      <td>A751C</td>\n      <td>PRIME</td>\n      <td>NaN</td>\n      <td>14.0</td>\n      <td>2018</td>\n      <td>G4LA</td>\n      <td>2025-04-11</td>\n      <td>2026-04-14</td>\n      <td>פרטי</td>\n      <td>NLHA751CBJZ429963</td>\n      <td>80</td>\n      <td>שנהב לבן</td>\n      <td>175/65R14</td>\n      <td>175/65R14</td>\n      <td>בנזין</td>\n      <td>170001.0</td>\n      <td>2018-4</td>\n      <td>I10</td>\n    </tr>\n    <tr>\n      <th>...</th>\n      <td>...</td>\n      <td>...</td>\n      <td>...</td>\n      <td>...</td>\n      <td>...</td>\n      <td>...</td>\n      <td>...</td>\n      <td>...</td>\n      <td>...</td>\n      <td>...</td>\n      <td>...</td>\n      <td>...</td>\n      <td>...</td>\n      <td>...</td>\n      <td>...</td>\n      <td>...</td>\n      <td>...</td>\n      <td>...</td>\n      <td>...</td>\n      <td>...</td>\n      <td>...</td>\n      <td>...</td>\n      <td>...</td>\n      <td>...</td>\n    </tr>\n    <tr>\n      <th>31995</th>\n      <td>31996</td>\n      <td>4971475</td>\n      <td>730</td>\n      <td>P</td>\n      <td>פורד גרמניה</td>\n      <td>6</td>\n      <td>DYB</td>\n      <td>TREND</td>\n      <td>NaN</td>\n      <td>15.0</td>\n      <td>2012</td>\n      <td>PNDA</td>\n      <td>2025-03-14</td>\n      <td>2026-03-20</td>\n      <td>פרטי</td>\n      <td>WF0MXXGCBMBM09560</td>\n      <td>80</td>\n      <td>שנהב לבן</td>\n      <td>205/55R16</td>\n      <td>205/55R16</td>\n      <td>בנזין</td>\n      <td>NaN</td>\n      <td>2012-3</td>\n      <td>FOCUS</td>\n    </tr>\n    <tr>\n      <th>31996</th>\n      <td>31997</td>\n      <td>6443770</td>\n      <td>312</td>\n      <td>P</td>\n      <td>הונדה-יפן</td>\n      <td>871</td>\n      <td>ZE28</td>\n      <td>ELEGANCE</td>\n      <td>NaN</td>\n      <td>7.0</td>\n      <td>2010</td>\n      <td>LDA3</td>\n      <td>2024-08-11</td>\n      <td>2025-07-04</td>\n      <td>פרטי</td>\n      <td>JHMZE2870AS216412</td>\n      <td>11</td>\n      <td>שחור מטלי</td>\n      <td>185/55R16</td>\n      <td>185/55R16</td>\n      <td>בנזין</td>\n      <td>NaN</td>\n      <td>2010-7</td>\n      <td>INSIGHT HYBRID</td>\n    </tr>\n    <tr>\n      <th>31997</th>\n      <td>31998</td>\n      <td>1979764</td>\n      <td>588</td>\n      <td>P</td>\n      <td>מזדה יפן</td>\n      <td>282</td>\n      <td>CR19F</td>\n      <td>S</td>\n      <td>NaN</td>\n      <td>NaN</td>\n      <td>2008</td>\n      <td>LF</td>\n      <td>2024-12-08</td>\n      <td>2025-10-08</td>\n      <td>פרטי</td>\n      <td>JMZCR19F5-80217656</td>\n      <td>26</td>\n      <td>פלטינה</td>\n      <td>205/55R16</td>\n      <td>205/55R16</td>\n      <td>בנזין</td>\n      <td>NaN</td>\n      <td>None</td>\n      <td>MAZDA 5</td>\n    </tr>\n    <tr>\n      <th>31998</th>\n      <td>31999</td>\n      <td>6230316</td>\n      <td>143</td>\n      <td>P</td>\n      <td>ב מ וו גרמניה</td>\n      <td>1061</td>\n      <td>NU91</td>\n      <td></td>\n      <td>NaN</td>\n      <td>15.0</td>\n      <td>2010</td>\n      <td>N52B30AF</td>\n      <td>2024-01-11</td>\n      <td>2025-01-04</td>\n      <td>פרטי</td>\n      <td>WBANU9107A  CT29434</td>\n      <td>6</td>\n      <td>אפור כהה מטלי</td>\n      <td>225/50R17</td>\n      <td>225/50R17</td>\n      <td>בנזין</td>\n      <td>NaN</td>\n      <td>2010-1</td>\n      <td>530I</td>\n    </tr>\n    <tr>\n      <th>31999</th>\n      <td>32000</td>\n      <td>7161558</td>\n      <td>650</td>\n      <td>P</td>\n      <td>סובארו יפן</td>\n      <td>181</td>\n      <td>GD9EL5R</td>\n      <td>GX</td>\n      <td>NaN</td>\n      <td>NaN</td>\n      <td>2006</td>\n      <td>EJ 20</td>\n      <td>2023-08-26</td>\n      <td>2024-06-21</td>\n      <td>פרטי</td>\n      <td>JF1GD9LR56G451487</td>\n      <td>32</td>\n      <td>כחול בהיר</td>\n      <td>215/45/R17</td>\n      <td>215/45R17</td>\n      <td>בנזין</td>\n      <td>NaN</td>\n      <td>None</td>\n      <td>IMPREZA</td>\n    </tr>\n  </tbody>\n</table>\n<p>32000 rows × 24 columns</p>\n</div>\n    <div class=\"colab-df-buttons\">\n\n  <div class=\"colab-df-container\">\n    <button class=\"colab-df-convert\" onclick=\"convertToInteractive('df-490185e0-a4ad-41ad-92eb-0b34d04a03a1')\"\n            title=\"Convert this dataframe to an interactive table.\"\n            style=\"display:none;\">\n\n  <svg xmlns=\"http://www.w3.org/2000/svg\" height=\"24px\" viewBox=\"0 -960 960 960\">\n    <path d=\"M120-120v-720h720v720H120Zm60-500h600v-160H180v160Zm220 220h160v-160H400v160Zm0 220h160v-160H400v160ZM180-400h160v-160H180v160Zm440 0h160v-160H620v160ZM180-180h160v-160H180v160Zm440 0h160v-160H620v160Z\"/>\n  </svg>\n    </button>\n\n  <style>\n    .colab-df-container {\n      display:flex;\n      gap: 12px;\n    }\n\n    .colab-df-convert {\n      background-color: #E8F0FE;\n      border: none;\n      border-radius: 50%;\n      cursor: pointer;\n      display: none;\n      fill: #1967D2;\n      height: 32px;\n      padding: 0 0 0 0;\n      width: 32px;\n    }\n\n    .colab-df-convert:hover {\n      background-color: #E2EBFA;\n      box-shadow: 0px 1px 2px rgba(60, 64, 67, 0.3), 0px 1px 3px 1px rgba(60, 64, 67, 0.15);\n      fill: #174EA6;\n    }\n\n    .colab-df-buttons div {\n      margin-bottom: 4px;\n    }\n\n    [theme=dark] .colab-df-convert {\n      background-color: #3B4455;\n      fill: #D2E3FC;\n    }\n\n    [theme=dark] .colab-df-convert:hover {\n      background-color: #434B5C;\n      box-shadow: 0px 1px 3px 1px rgba(0, 0, 0, 0.15);\n      filter: drop-shadow(0px 1px 2px rgba(0, 0, 0, 0.3));\n      fill: #FFFFFF;\n    }\n  </style>\n\n    <script>\n      const buttonEl =\n        document.querySelector('#df-490185e0-a4ad-41ad-92eb-0b34d04a03a1 button.colab-df-convert');\n      buttonEl.style.display =\n        google.colab.kernel.accessAllowed ? 'block' : 'none';\n\n      async function convertToInteractive(key) {\n        const element = document.querySelector('#df-490185e0-a4ad-41ad-92eb-0b34d04a03a1');\n        const dataTable =\n          await google.colab.kernel.invokeFunction('convertToInteractive',\n                                                    [key], {});\n        if (!dataTable) return;\n\n        const docLinkHtml = 'Like what you see? Visit the ' +\n          '<a target=\"_blank\" href=https://colab.research.google.com/notebooks/data_table.ipynb>data table notebook</a>'\n          + ' to learn more about interactive tables.';\n        element.innerHTML = '';\n        dataTable['output_type'] = 'display_data';\n        await google.colab.output.renderOutput(dataTable, element);\n        const docLink = document.createElement('div');\n        docLink.innerHTML = docLinkHtml;\n        element.appendChild(docLink);\n      }\n    </script>\n  </div>\n\n\n<div id=\"df-feb37e5e-31bf-40ba-8b33-3388d64ceca4\">\n  <button class=\"colab-df-quickchart\" onclick=\"quickchart('df-feb37e5e-31bf-40ba-8b33-3388d64ceca4')\"\n            title=\"Suggest charts\"\n            style=\"display:none;\">\n\n<svg xmlns=\"http://www.w3.org/2000/svg\" height=\"24px\"viewBox=\"0 0 24 24\"\n     width=\"24px\">\n    <g>\n        <path d=\"M19 3H5c-1.1 0-2 .9-2 2v14c0 1.1.9 2 2 2h14c1.1 0 2-.9 2-2V5c0-1.1-.9-2-2-2zM9 17H7v-7h2v7zm4 0h-2V7h2v10zm4 0h-2v-4h2v4z\"/>\n    </g>\n</svg>\n  </button>\n\n<style>\n  .colab-df-quickchart {\n      --bg-color: #E8F0FE;\n      --fill-color: #1967D2;\n      --hover-bg-color: #E2EBFA;\n      --hover-fill-color: #174EA6;\n      --disabled-fill-color: #AAA;\n      --disabled-bg-color: #DDD;\n  }\n\n  [theme=dark] .colab-df-quickchart {\n      --bg-color: #3B4455;\n      --fill-color: #D2E3FC;\n      --hover-bg-color: #434B5C;\n      --hover-fill-color: #FFFFFF;\n      --disabled-bg-color: #3B4455;\n      --disabled-fill-color: #666;\n  }\n\n  .colab-df-quickchart {\n    background-color: var(--bg-color);\n    border: none;\n    border-radius: 50%;\n    cursor: pointer;\n    display: none;\n    fill: var(--fill-color);\n    height: 32px;\n    padding: 0;\n    width: 32px;\n  }\n\n  .colab-df-quickchart:hover {\n    background-color: var(--hover-bg-color);\n    box-shadow: 0 1px 2px rgba(60, 64, 67, 0.3), 0 1px 3px 1px rgba(60, 64, 67, 0.15);\n    fill: var(--button-hover-fill-color);\n  }\n\n  .colab-df-quickchart-complete:disabled,\n  .colab-df-quickchart-complete:disabled:hover {\n    background-color: var(--disabled-bg-color);\n    fill: var(--disabled-fill-color);\n    box-shadow: none;\n  }\n\n  .colab-df-spinner {\n    border: 2px solid var(--fill-color);\n    border-color: transparent;\n    border-bottom-color: var(--fill-color);\n    animation:\n      spin 1s steps(1) infinite;\n  }\n\n  @keyframes spin {\n    0% {\n      border-color: transparent;\n      border-bottom-color: var(--fill-color);\n      border-left-color: var(--fill-color);\n    }\n    20% {\n      border-color: transparent;\n      border-left-color: var(--fill-color);\n      border-top-color: var(--fill-color);\n    }\n    30% {\n      border-color: transparent;\n      border-left-color: var(--fill-color);\n      border-top-color: var(--fill-color);\n      border-right-color: var(--fill-color);\n    }\n    40% {\n      border-color: transparent;\n      border-right-color: var(--fill-color);\n      border-top-color: var(--fill-color);\n    }\n    60% {\n      border-color: transparent;\n      border-right-color: var(--fill-color);\n    }\n    80% {\n      border-color: transparent;\n      border-right-color: var(--fill-color);\n      border-bottom-color: var(--fill-color);\n    }\n    90% {\n      border-color: transparent;\n      border-bottom-color: var(--fill-color);\n    }\n  }\n</style>\n\n  <script>\n    async function quickchart(key) {\n      const quickchartButtonEl =\n        document.querySelector('#' + key + ' button');\n      quickchartButtonEl.disabled = true;  // To prevent multiple clicks.\n      quickchartButtonEl.classList.add('colab-df-spinner');\n      try {\n        const charts = await google.colab.kernel.invokeFunction(\n            'suggestCharts', [key], {});\n      } catch (error) {\n        console.error('Error during call to suggestCharts:', error);\n      }\n      quickchartButtonEl.classList.remove('colab-df-spinner');\n      quickchartButtonEl.classList.add('colab-df-quickchart-complete');\n    }\n    (() => {\n      let quickchartButtonEl =\n        document.querySelector('#df-feb37e5e-31bf-40ba-8b33-3388d64ceca4 button');\n      quickchartButtonEl.style.display =\n        google.colab.kernel.accessAllowed ? 'block' : 'none';\n    })();\n  </script>\n</div>\n\n  <div id=\"id_b105ba49-9912-4a8a-933f-12d506621a23\">\n    <style>\n      .colab-df-generate {\n        background-color: #E8F0FE;\n        border: none;\n        border-radius: 50%;\n        cursor: pointer;\n        display: none;\n        fill: #1967D2;\n        height: 32px;\n        padding: 0 0 0 0;\n        width: 32px;\n      }\n\n      .colab-df-generate:hover {\n        background-color: #E2EBFA;\n        box-shadow: 0px 1px 2px rgba(60, 64, 67, 0.3), 0px 1px 3px 1px rgba(60, 64, 67, 0.15);\n        fill: #174EA6;\n      }\n\n      [theme=dark] .colab-df-generate {\n        background-color: #3B4455;\n        fill: #D2E3FC;\n      }\n\n      [theme=dark] .colab-df-generate:hover {\n        background-color: #434B5C;\n        box-shadow: 0px 1px 3px 1px rgba(0, 0, 0, 0.15);\n        filter: drop-shadow(0px 1px 2px rgba(0, 0, 0, 0.3));\n        fill: #FFFFFF;\n      }\n    </style>\n    <button class=\"colab-df-generate\" onclick=\"generateWithVariable('data_df')\"\n            title=\"Generate code using this dataframe.\"\n            style=\"display:none;\">\n\n  <svg xmlns=\"http://www.w3.org/2000/svg\" height=\"24px\"viewBox=\"0 0 24 24\"\n       width=\"24px\">\n    <path d=\"M7,19H8.4L18.45,9,17,7.55,7,17.6ZM5,21V16.75L18.45,3.32a2,2,0,0,1,2.83,0l1.4,1.43a1.91,1.91,0,0,1,.58,1.4,1.91,1.91,0,0,1-.58,1.4L9.25,21ZM18.45,9,17,7.55Zm-12,3A5.31,5.31,0,0,0,4.9,8.1,5.31,5.31,0,0,0,1,6.5,5.31,5.31,0,0,0,4.9,4.9,5.31,5.31,0,0,0,6.5,1,5.31,5.31,0,0,0,8.1,4.9,5.31,5.31,0,0,0,12,6.5,5.46,5.46,0,0,0,6.5,12Z\"/>\n  </svg>\n    </button>\n    <script>\n      (() => {\n      const buttonEl =\n        document.querySelector('#id_b105ba49-9912-4a8a-933f-12d506621a23 button.colab-df-generate');\n      buttonEl.style.display =\n        google.colab.kernel.accessAllowed ? 'block' : 'none';\n\n      buttonEl.onclick = () => {\n        google.colab.notebook.generateWithVariable('data_df');\n      }\n      })();\n    </script>\n  </div>\n\n    </div>\n  </div>\n",
                  "application/vnd.google.colaboratory.intrinsic+json": {
                    "type": "dataframe",
                    "variable_name": "data_df"
                  }
                },
                "metadata": {}
              }
            ]
          }
        },
        "1969b18e6f3d4638b9d903c8b9bbbf36": {
          "model_module": "@jupyter-widgets/output",
          "model_name": "OutputModel",
          "model_module_version": "1.0.0",
          "state": {
            "_dom_classes": [],
            "_model_module": "@jupyter-widgets/output",
            "_model_module_version": "1.0.0",
            "_model_name": "OutputModel",
            "_view_count": null,
            "_view_module": "@jupyter-widgets/output",
            "_view_module_version": "1.0.0",
            "_view_name": "OutputView",
            "layout": "IPY_MODEL_c9e783b595224afd84f68c0ce6ce8ff4",
            "msg_id": "",
            "outputs": [
              {
                "output_type": "stream",
                "name": "stdout",
                "text": [
                  "Charts:\n"
                ]
              },
              {
                "output_type": "display_data",
                "data": {
                  "text/plain": "<Figure size 640x480 with 1 Axes>",
                  "image/png": "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\n"
                },
                "metadata": {}
              }
            ]
          }
        },
        "6805bcb1392f4a3a9a3eb31ac3bb5efc": {
          "model_module": "@jupyter-widgets/base",
          "model_name": "LayoutModel",
          "model_module_version": "1.2.0",
          "state": {
            "_model_module": "@jupyter-widgets/base",
            "_model_module_version": "1.2.0",
            "_model_name": "LayoutModel",
            "_view_count": null,
            "_view_module": "@jupyter-widgets/base",
            "_view_module_version": "1.2.0",
            "_view_name": "LayoutView",
            "align_content": null,
            "align_items": null,
            "align_self": null,
            "border": null,
            "bottom": null,
            "display": null,
            "flex": null,
            "flex_flow": null,
            "grid_area": null,
            "grid_auto_columns": null,
            "grid_auto_flow": null,
            "grid_auto_rows": null,
            "grid_column": null,
            "grid_gap": null,
            "grid_row": null,
            "grid_template_areas": null,
            "grid_template_columns": null,
            "grid_template_rows": null,
            "height": null,
            "justify_content": null,
            "justify_items": null,
            "left": null,
            "margin": null,
            "max_height": null,
            "max_width": null,
            "min_height": null,
            "min_width": null,
            "object_fit": null,
            "object_position": null,
            "order": null,
            "overflow": null,
            "overflow_x": null,
            "overflow_y": null,
            "padding": null,
            "right": null,
            "top": null,
            "visibility": null,
            "width": null
          }
        },
        "0c7880e807b646fdbbc5a81fcf932df2": {
          "model_module": "@jupyter-widgets/base",
          "model_name": "LayoutModel",
          "model_module_version": "1.2.0",
          "state": {
            "_model_module": "@jupyter-widgets/base",
            "_model_module_version": "1.2.0",
            "_model_name": "LayoutModel",
            "_view_count": null,
            "_view_module": "@jupyter-widgets/base",
            "_view_module_version": "1.2.0",
            "_view_name": "LayoutView",
            "align_content": null,
            "align_items": null,
            "align_self": null,
            "border": null,
            "bottom": null,
            "display": null,
            "flex": null,
            "flex_flow": null,
            "grid_area": null,
            "grid_auto_columns": null,
            "grid_auto_flow": null,
            "grid_auto_rows": null,
            "grid_column": null,
            "grid_gap": null,
            "grid_row": null,
            "grid_template_areas": null,
            "grid_template_columns": null,
            "grid_template_rows": null,
            "height": null,
            "justify_content": null,
            "justify_items": null,
            "left": null,
            "margin": null,
            "max_height": null,
            "max_width": null,
            "min_height": null,
            "min_width": null,
            "object_fit": null,
            "object_position": null,
            "order": null,
            "overflow": null,
            "overflow_x": null,
            "overflow_y": null,
            "padding": null,
            "right": null,
            "top": null,
            "visibility": null,
            "width": null
          }
        },
        "ce8601854a0c4bc58ce9f3ac8bdc348f": {
          "model_module": "@jupyter-widgets/base",
          "model_name": "LayoutModel",
          "model_module_version": "1.2.0",
          "state": {
            "_model_module": "@jupyter-widgets/base",
            "_model_module_version": "1.2.0",
            "_model_name": "LayoutModel",
            "_view_count": null,
            "_view_module": "@jupyter-widgets/base",
            "_view_module_version": "1.2.0",
            "_view_name": "LayoutView",
            "align_content": null,
            "align_items": null,
            "align_self": null,
            "border": null,
            "bottom": null,
            "display": null,
            "flex": null,
            "flex_flow": null,
            "grid_area": null,
            "grid_auto_columns": null,
            "grid_auto_flow": null,
            "grid_auto_rows": null,
            "grid_column": null,
            "grid_gap": null,
            "grid_row": null,
            "grid_template_areas": null,
            "grid_template_columns": null,
            "grid_template_rows": null,
            "height": null,
            "justify_content": null,
            "justify_items": null,
            "left": null,
            "margin": null,
            "max_height": null,
            "max_width": null,
            "min_height": null,
            "min_width": null,
            "object_fit": null,
            "object_position": null,
            "order": null,
            "overflow": null,
            "overflow_x": null,
            "overflow_y": null,
            "padding": null,
            "right": null,
            "top": null,
            "visibility": null,
            "width": null
          }
        },
        "c9e783b595224afd84f68c0ce6ce8ff4": {
          "model_module": "@jupyter-widgets/base",
          "model_name": "LayoutModel",
          "model_module_version": "1.2.0",
          "state": {
            "_model_module": "@jupyter-widgets/base",
            "_model_module_version": "1.2.0",
            "_model_name": "LayoutModel",
            "_view_count": null,
            "_view_module": "@jupyter-widgets/base",
            "_view_module_version": "1.2.0",
            "_view_name": "LayoutView",
            "align_content": null,
            "align_items": null,
            "align_self": null,
            "border": null,
            "bottom": null,
            "display": null,
            "flex": null,
            "flex_flow": null,
            "grid_area": null,
            "grid_auto_columns": null,
            "grid_auto_flow": null,
            "grid_auto_rows": null,
            "grid_column": null,
            "grid_gap": null,
            "grid_row": null,
            "grid_template_areas": null,
            "grid_template_columns": null,
            "grid_template_rows": null,
            "height": null,
            "justify_content": null,
            "justify_items": null,
            "left": null,
            "margin": null,
            "max_height": null,
            "max_width": null,
            "min_height": null,
            "min_width": null,
            "object_fit": null,
            "object_position": null,
            "order": null,
            "overflow": null,
            "overflow_x": null,
            "overflow_y": null,
            "padding": null,
            "right": null,
            "top": null,
            "visibility": null,
            "width": null
          }
        }
      }
    }
  },
  "cells": [
    {
      "cell_type": "markdown",
      "metadata": {
        "id": "view-in-github",
        "colab_type": "text"
      },
      "source": [
        "<a href=\"https://colab.research.google.com/github/YardenNahum/WebCloud/blob/main/tirgul4.ipynb\" target=\"_parent\"><img src=\"https://colab.research.google.com/assets/colab-badge.svg\" alt=\"Open In Colab\"/></a>"
      ]
    },
    {
      "cell_type": "code",
      "execution_count": 12,
      "metadata": {
        "colab": {
          "base_uri": "https://localhost:8080/",
          "height": 395,
          "referenced_widgets": [
            "9367c325d7af41dc932393c6f6b68a13",
            "9896ae55528c4459b728788e4d79fb8b",
            "f810c82695ea43bbbacef2b63d8dbbbf",
            "1969b18e6f3d4638b9d903c8b9bbbf36",
            "6805bcb1392f4a3a9a3eb31ac3bb5efc",
            "0c7880e807b646fdbbc5a81fcf932df2",
            "ce8601854a0c4bc58ce9f3ac8bdc348f",
            "c9e783b595224afd84f68c0ce6ce8ff4"
          ]
        },
        "id": "pEAGJad3SEtY",
        "outputId": "80bbab6e-adcd-431a-cf1e-be131c3328d9"
      },
      "outputs": [
        {
          "output_type": "display_data",
          "data": {
            "text/plain": [
              "Tab(children=(Output(), Output(), Output()), _titles={'0': 'Tab 1: Data Overview', '1': 'Tab 2: Raw Data', '2'…"
            ],
            "application/vnd.jupyter.widget-view+json": {
              "version_major": 2,
              "version_minor": 0,
              "model_id": "9367c325d7af41dc932393c6f6b68a13"
            }
          },
          "metadata": {}
        }
      ],
      "source": [
        "import pandas as pd\n",
        "import ipywidgets as widgets\n",
        "from IPython.display import display\n",
        "from plotly.offline import iplot\n",
        "import plotly.graph_objs as go\n",
        "import matplotlib.pyplot as plt\n",
        "import numpy as np\n",
        "import seaborn as sns\n",
        "import plotly.express as px\n",
        "\n",
        "url = 'https://data.gov.il/api/3/action/datastore_search?resource_id=053cea08-09bc-40ec-8f7a-156f0677aff3'\n",
        "import requests\n",
        "import pandas as pd\n",
        "pd.set_option(\"display.max_columns\", None)\n",
        "response = requests.get(url)\n",
        "data = response.json()\n",
        "data_df = pd.DataFrame(data['result']['records'])\n",
        "\n",
        "# Tab 1: Data Overview\n",
        "tab1_content = widgets.Output()\n",
        "with tab1_content:\n",
        "    print(\"Data Overview:\")\n",
        "    display(data_df.describe())  # Summary statistics\n",
        "\n",
        "# Tab 2: Raw Data\n",
        "tab2_content = widgets.Output()\n",
        "with tab2_content:\n",
        "    print(\"Raw Data:\")\n",
        "    display(data_df)  # Full DataFrame\n",
        "\n",
        "# Tab 3: Charts\n",
        "tab3_content = widgets.Output()\n",
        "with tab3_content:\n",
        "    print(\"Charts:\")\n",
        "    data_df[['mispar_rechev','shnat_yitzur']].groupby('shnat_yitzur').count().plot(kind='bar')\n",
        "    plt.show()  # Add this to display the plot\n",
        "    plt.close()  # Close the figure to free memory\n",
        "\n",
        "# Create Tabs\n",
        "tabs = widgets.Tab(children=[tab1_content, tab2_content,tab3_content])\n",
        "tabs.set_title(0, 'Tab 1: Data Overview')\n",
        "tabs.set_title(1, 'Tab 2: Raw Data')\n",
        "tabs.set_title(2, 'Tab 3: Charts')\n",
        "\n",
        "# Display Tabs\n",
        "display(tabs)\n"
      ]
    },
    {
      "cell_type": "code",
      "source": [],
      "metadata": {
        "id": "u21f4VkAZ1vE"
      },
      "execution_count": null,
      "outputs": []
    }
  ]
}