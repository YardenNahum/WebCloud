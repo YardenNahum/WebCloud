{
  "nbformat": 4,
  "nbformat_minor": 0,
  "metadata": {
    "colab": {
      "provenance": [],
      "authorship_tag": "ABX9TyPdTp2rIzXEVaNdCKd7Zf3L",
      "include_colab_link": true
    },
    "kernelspec": {
      "name": "python3",
      "display_name": "Python 3"
    },
    "language_info": {
      "name": "python"
    }
  },
  "cells": [
    {
      "cell_type": "markdown",
      "metadata": {
        "id": "view-in-github",
        "colab_type": "text"
      },
      "source": [
        "<a href=\"https://colab.research.google.com/github/YardenNahum/WebCloud/blob/main/tirgul5.ipynb\" target=\"_parent\"><img src=\"https://colab.research.google.com/assets/colab-badge.svg\" alt=\"Open In Colab\"/></a>"
      ]
    },
    {
      "cell_type": "code",
      "execution_count": 1,
      "metadata": {
        "colab": {
          "base_uri": "https://localhost:8080/"
        },
        "id": "jOem69IHTStj",
        "outputId": "128d0cfe-728d-4b42-e15c-e5c753eaf7c7"
      },
      "outputs": [
        {
          "output_type": "stream",
          "name": "stdout",
          "text": [
            "Collecting firebase\n",
            "  Downloading firebase-4.0.1-py3-none-any.whl.metadata (6.5 kB)\n",
            "Requirement already satisfied: requests in /usr/local/lib/python3.11/dist-packages (from firebase) (2.32.3)\n",
            "Requirement already satisfied: charset-normalizer<4,>=2 in /usr/local/lib/python3.11/dist-packages (from requests->firebase) (3.4.1)\n",
            "Requirement already satisfied: idna<4,>=2.5 in /usr/local/lib/python3.11/dist-packages (from requests->firebase) (3.10)\n",
            "Requirement already satisfied: urllib3<3,>=1.21.1 in /usr/local/lib/python3.11/dist-packages (from requests->firebase) (2.3.0)\n",
            "Requirement already satisfied: certifi>=2017.4.17 in /usr/local/lib/python3.11/dist-packages (from requests->firebase) (2025.1.31)\n",
            "Downloading firebase-4.0.1-py3-none-any.whl (12 kB)\n",
            "Installing collected packages: firebase\n",
            "Successfully installed firebase-4.0.1\n"
          ]
        }
      ],
      "source": [
        "!pip install firebase"
      ]
    },
    {
      "cell_type": "code",
      "source": [
        "from firebase import firebase\n",
        "FBconn = firebase.FirebaseApplication('https://crud-cc9cb-default-rtdb.firebaseio.com/',None)"
      ],
      "metadata": {
        "id": "PdbFWRyEZrVd"
      },
      "execution_count": 10,
      "outputs": []
    },
    {
      "cell_type": "code",
      "source": [
        "import time\n",
        "\n",
        "\n",
        "def get_all_records():\n",
        "    \"\"\"Retrieve all temperature records\"\"\"\n",
        "    return FBconn.get('/myTest1/', None)\n",
        "\n",
        "def update_word(record_id, new_count):\n",
        "    \"\"\"Update an existing word record\"\"\"\n",
        "    return FBconn.put('/myTest1/' + record_id, 'wordCount', new_count)\n",
        "\n",
        "def delete_record(record_id):\n",
        "    \"\"\"Delete a word record\"\"\"\n",
        "    return FBconn.delete('/myTest1/', record_id)\n",
        "\n",
        "def display_records():\n",
        "    \"\"\"Display all words records\"\"\"\n",
        "    records = get_all_records()\n",
        "    if records:\n",
        "        print(\"\\nCurrent Records:\")\n",
        "        for record_id, data in records.items():\n",
        "            print(f\"ID: {record_id} - wordCount: {data['wordCount']}\")\n",
        "    else:\n",
        "        print(\"\\nNo records found\")\n",
        "\n",
        "while True:\n",
        "    print(\"\\nWords Tracker Menu:\")\n",
        "    print(\"1. Add Single Word\")\n",
        "    print(\"2. Add Text For Analysis\")\n",
        "    print(\"3. Update Word Count\")\n",
        "    print(\"4. Delete word\")\n",
        "    print(\"5. View All Words\")\n",
        "    print(\"6. Exit\")\n",
        "\n",
        "    choice = input(\"\\nEnter your choice (1-6): \")\n",
        "\n",
        "    if choice == '1':\n",
        "        # Add new word\n",
        "        try:\n",
        "            word = input(\"What is the word? \").strip()\n",
        "            # Check if the input is only one word (no spaces)\n",
        "            if ' ' in word or word == '':\n",
        "              print(\"Please enter exactly one word without spaces.\")\n",
        "            else:\n",
        "              result = FBconn.get('/myTest1/'+word,None)\n",
        "              if(result==None):\n",
        "                  update_word(word,1)\n",
        "              else:\n",
        "                  update_word(word,result['wordCount']+1)\n",
        "              print(f\"Word '{word}' added successfully!\")\n",
        "        except ValueError:\n",
        "            print(\"Please enter a valid word\")\n",
        "\n",
        "    elif choice == '2':\n",
        "        try:\n",
        "            text = input(\"\\nEnter the Text To Analyze: \")\n",
        "            words = text.split()\n",
        "            for word in words:\n",
        "                result = FBconn.get('/myTest1/'+word,None)\n",
        "                if(result==None):\n",
        "                    update_word(word,1)\n",
        "                else:\n",
        "                    update_word(word,result['wordCount']+1)\n",
        "            print(\"text analsys successfull!\")\n",
        "        except ValueError:\n",
        "            print(\"Please enter a valid text\")\n",
        "\n",
        "    elif choice == '3':\n",
        "        # update word count\n",
        "        display_records()\n",
        "        record_id = input(\"\\nEnter the word to update: \")\n",
        "        result = FBconn.get('/myTest1/'+record_id,None)\n",
        "        if(result==None):\n",
        "            print(\"No such word exists\")\n",
        "        else:\n",
        "          new_count = input(\"Enter the new count: \")\n",
        "          result = update_word(record_id, new_count)\n",
        "          if result is not None:\n",
        "              print(\"Record updated successfully!\")\n",
        "          else:\n",
        "              print(\"Failed to update record. Check if the ID exists.\")\n",
        "\n",
        "    elif choice == '4':\n",
        "        # View all records\n",
        "        display_records()\n",
        "        record_id = input(\"\\nEnter the word to delete: \")\n",
        "        result = delete_record(record_id)\n",
        "        if result is None:\n",
        "            print(\"Record deleted successfully!\")\n",
        "        else:\n",
        "            print(\"Failed to delete record. Check if the ID exists.\")\n",
        "\n",
        "    elif choice == '5':\n",
        "        # View all records\n",
        "        display_records()\n",
        "\n",
        "    elif choice == '6':\n",
        "        print(\"Exiting program...\")\n",
        "        break\n",
        "\n",
        "    else:\n",
        "        print(\"Invalid choice. Please try again.\")\n"
      ],
      "metadata": {
        "colab": {
          "base_uri": "https://localhost:8080/"
        },
        "id": "GHJHRJ10Z3hR",
        "outputId": "b2f9ba83-7dd5-4137-b1ab-f481a5beb3cf"
      },
      "execution_count": null,
      "outputs": [
        {
          "output_type": "stream",
          "name": "stdout",
          "text": [
            "\n",
            "Words Tracker Menu:\n",
            "1. Add Single Word\n",
            "2. Add Text For Analysis\n",
            "3. Update Word Count\n",
            "4. Delete word\n",
            "5. View All Words\n",
            "6. Exit\n",
            "\n",
            "Enter your choice (1-6): 2\n",
            "\n",
            "Enter the Text To Analyze: once upon a time there was once a shuchi in the wild shuchi is common in sandy areas and is fed mostly by ramen he enjoys to bathe in the sun together with alphie the local gangster Invalid choice\n",
            "text analsys successfull!\n",
            "\n",
            "Words Tracker Menu:\n",
            "1. Add Single Word\n",
            "2. Add Text For Analysis\n",
            "3. Update Word Count\n",
            "4. Delete word\n",
            "5. View All Words\n",
            "6. Exit\n",
            "\n",
            "Enter your choice (1-6): 5\n",
            "\n",
            "Current Records:\n",
            "ID: Invalid - wordCount: 1\n",
            "ID: a - wordCount: 2\n",
            "ID: alphie - wordCount: 1\n",
            "ID: and - wordCount: 1\n",
            "ID: areas - wordCount: 1\n",
            "ID: bathe - wordCount: 1\n",
            "ID: by - wordCount: 1\n",
            "ID: choice - wordCount: 1\n",
            "ID: common - wordCount: 1\n",
            "ID: enjoys - wordCount: 1\n",
            "ID: fed - wordCount: 1\n",
            "ID: gangster - wordCount: 1\n",
            "ID: he - wordCount: 1\n",
            "ID: in - wordCount: 3\n",
            "ID: is - wordCount: 2\n",
            "ID: local - wordCount: 1\n",
            "ID: mostly - wordCount: 1\n",
            "ID: once - wordCount: 2\n",
            "ID: ramen - wordCount: 1\n",
            "ID: sandy - wordCount: 1\n",
            "ID: shuchi - wordCount: 2\n",
            "ID: sun - wordCount: 1\n",
            "ID: the - wordCount: 3\n",
            "ID: there - wordCount: 1\n",
            "ID: time - wordCount: 1\n",
            "ID: to - wordCount: 1\n",
            "ID: together - wordCount: 1\n",
            "ID: upon - wordCount: 1\n",
            "ID: was - wordCount: 1\n",
            "ID: wild - wordCount: 1\n",
            "ID: with - wordCount: 1\n",
            "\n",
            "Words Tracker Menu:\n",
            "1. Add Single Word\n",
            "2. Add Text For Analysis\n",
            "3. Update Word Count\n",
            "4. Delete word\n",
            "5. View All Words\n",
            "6. Exit\n"
          ]
        }
      ]
    },
    {
      "cell_type": "code",
      "source": [],
      "metadata": {
        "id": "MajC8hfgefYk"
      },
      "execution_count": null,
      "outputs": []
    }
  ]
}